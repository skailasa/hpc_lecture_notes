{
 "cells": [
  {
   "cell_type": "markdown",
   "metadata": {
    "collapsed": true
   },
   "source": [
    "# A short introduction to Numpy"
   ]
  },
  {
   "cell_type": "markdown",
   "metadata": {},
   "source": [
    "Numpy provides a fast interface to operations on Numerical Arrays. It is the most basic component of any Python Scientific Computing Stack and, depending on the underlying BLAS implementation (more about BLAS later), parallelizes certain operations efficiently."
   ]
  },
  {
   "cell_type": "markdown",
   "metadata": {},
   "source": [
    "To get started we import Numpy."
   ]
  },
  {
   "cell_type": "code",
   "execution_count": 1,
   "metadata": {},
   "outputs": [],
   "source": [
    "import numpy as np"
   ]
  },
  {
   "cell_type": "markdown",
   "metadata": {},
   "source": [
    "Below are some ways to create an array with Numpy."
   ]
  },
  {
   "cell_type": "code",
   "execution_count": 2,
   "metadata": {},
   "outputs": [],
   "source": [
    "a_random = np.random.rand(10) # A random array with 10 components\n",
    "a_ones = np.ones((10, 10), dtype='float64') # A 10x10 matrix of ones, stored as double precision (float64) type\n",
    "a_zeros = np.zeros(((10, 10, 10)), dtype='complex128') # A complex three dim. Tensor with all entries set to zero.\n",
    "a_empty = np.empty(50, dtype='byte') # An unitialized byte array that can store 50 bytes.\n",
    "a_range = np.arange(50) # The first 50 integers, starting at 0."
   ]
  },
  {
   "cell_type": "markdown",
   "metadata": {},
   "source": [
    "Accessing elements is easy."
   ]
  },
  {
   "cell_type": "code",
   "execution_count": 3,
   "metadata": {},
   "outputs": [
    {
     "data": {
      "text/plain": [
       "0.4000953865562785"
      ]
     },
     "execution_count": 3,
     "metadata": {},
     "output_type": "execute_result"
    }
   ],
   "source": [
    "a_random[0] # Element 0"
   ]
  },
  {
   "cell_type": "code",
   "execution_count": 4,
   "metadata": {},
   "outputs": [
    {
     "data": {
      "text/plain": [
       "array([0.40009539, 0.71934764])"
      ]
     },
     "execution_count": 4,
     "metadata": {},
     "output_type": "execute_result"
    }
   ],
   "source": [
    "a_random[:2] # The first two elements "
   ]
  },
  {
   "cell_type": "code",
   "execution_count": 5,
   "metadata": {},
   "outputs": [
    {
     "data": {
      "text/plain": [
       "array([0.5445252, 0.4253604])"
      ]
     },
     "execution_count": 5,
     "metadata": {},
     "output_type": "execute_result"
    }
   ],
   "source": [
    "a_random[-2:] # The last two elements"
   ]
  },
  {
   "cell_type": "code",
   "execution_count": 6,
   "metadata": {},
   "outputs": [
    {
     "data": {
      "text/plain": [
       "array([[1., 1., 1.],\n",
       "       [1., 1., 1.],\n",
       "       [1., 1., 1.]])"
      ]
     },
     "execution_count": 6,
     "metadata": {},
     "output_type": "execute_result"
    }
   ],
   "source": [
    "a_ones[:3, 2:5] # The third to fifth column in the first three rows"
   ]
  },
  {
   "cell_type": "code",
   "execution_count": 7,
   "metadata": {},
   "outputs": [
    {
     "data": {
      "text/plain": [
       "0j"
      ]
     },
     "execution_count": 7,
     "metadata": {},
     "output_type": "execute_result"
    }
   ],
   "source": [
    "a_zeros[3, 2, 1] # The element with indices (3, 2, 1)"
   ]
  },
  {
   "cell_type": "markdown",
   "metadata": {},
   "source": [
    "Assigning elements works similarly."
   ]
  },
  {
   "cell_type": "code",
   "execution_count": 8,
   "metadata": {},
   "outputs": [
    {
     "name": "stdout",
     "output_type": "stream",
     "text": [
      "[[ 1.  1.  1.  1.  0.  1.  1.  1.  1.  1.]\n",
      " [ 1.  1.  1.  1.  1.  1.  1.  1.  1.  1.]\n",
      " [ 1.  1.  1.  1.  2.  1.  1.  1.  1.  1.]\n",
      " [ 1.  1.  1. 10.  3.  1.  1.  1.  1.  1.]\n",
      " [ 1.  1.  1.  1.  4.  1.  1.  1.  1.  1.]\n",
      " [ 1.  1.  1.  1.  5.  1.  1.  1.  1.  1.]\n",
      " [ 1.  1.  1.  1.  6.  1.  1.  1.  1.  1.]\n",
      " [ 1.  1.  1.  1.  7.  1.  1.  1.  1.  1.]\n",
      " [10. 10. 10. 10. 10. 10. 10. 10. 10. 10.]\n",
      " [ 1.  1.  1.  1.  9.  1.  1.  1.  1.  1.]]\n"
     ]
    }
   ],
   "source": [
    "a_ones[3, 3] = 10\n",
    "a_ones[:, 4] = np.arange(10)\n",
    "a_ones[8] = 10 # This sets the whole of row 8 to the entry 10\n",
    "print(a_ones)"
   ]
  },
  {
   "cell_type": "code",
   "execution_count": 9,
   "metadata": {},
   "outputs": [],
   "source": [
    "# Together with Matplotlib we can easily plot data."
   ]
  },
  {
   "cell_type": "code",
   "execution_count": 10,
   "metadata": {},
   "outputs": [
    {
     "data": {
      "image/png": "[encoded data removed]",
      "text/plain": [
       "<Figure size 432x288 with 1 Axes>"
      ]
     },
     "metadata": {
      "needs_background": "light"
     },
     "output_type": "display_data"
    }
   ],
   "source": [
    "%matplotlib inline\n",
    "from matplotlib import pyplot as plt\n",
    "\n",
    "x = np.linspace(-10, 10, 10000)\n",
    "y = np.exp(-x**2)\n",
    "plt.plot(x, y)\n",
    "plt.xlabel('x')\n",
    "plt.ylabel('exp(-x^2)')\n",
    "plt.show()"
   ]
  },
  {
   "cell_type": "markdown",
   "metadata": {},
   "source": [
    "## BLAS Operations"
   ]
  },
  {
   "cell_type": "markdown",
   "metadata": {},
   "source": [
    "[BLAS](http://www.netlib.org/blas/) (Basic Linear Algebra Subprograms) is an interface standard that defines access to a range of useful linear algebra routines on vectors and matrices. BLAS is designed in Fortan. For most CPUs efficient BLAS implementations are available. BLAS is split up into BLAS1, BLAS2, and BLAS3. BLAS1 describes simple vector operations of $O(n)$ cost. BLAS2 describes $O(n^2)$ operations such as the matrix-vector product, while BLAS3 focuses on $O(n^3)$ matrix-matrix operations (mainly matrix-matrix product). In particular, the matrix-matrix product benefits from efficient shared memory parallel implementations, and most vendors provide a corresponding multi-threaded BLAS implementation. Internally, Numpy makes use of BLAS. Hence, if Numpy was compiled with a fast BLAS library, it will also be very fast.\n",
    "\n",
    "Matrix/Matrix and Matrix/vector products in Numpy are executed as follows:"
   ]
  },
  {
   "cell_type": "code",
   "execution_count": 13,
   "metadata": {},
   "outputs": [],
   "source": [
    "A = np.random.randn(100, 100)\n",
    "B = np.random.randn(100, 100)\n",
    "\n",
    "C = A @ B # Product of the matrices A and B"
   ]
  },
  {
   "cell_type": "markdown",
   "metadata": {},
   "source": [
    "Note that the componentwise product of two matrices is written as `C = A * B` and has nothing to do with the matrix/matrix product."
   ]
  },
  {
   "cell_type": "markdown",
   "metadata": {},
   "source": [
    "Numpy can also solve Linear systems of equations and perform other higher order matrix operations. These are implemented through interfacing the [LAPACK](www.netlib.org/lapack) library, which itself builds upon BLAS. Many vendors combine LAPACK and BLAS into a single library.\n",
    "\n",
    "To solve a linear system of equations, the following can be used."
   ]
  },
  {
   "cell_type": "code",
   "execution_count": 15,
   "metadata": {},
   "outputs": [],
   "source": [
    "A = np.random.rand(1000, 1000)\n",
    "b = np.random.rand(1000)\n",
    "x = np.linalg.solve(A, b)"
   ]
  },
  {
   "cell_type": "markdown",
   "metadata": {},
   "source": [
    "We can easily compute the relative residual of this solve as"
   ]
  },
  {
   "cell_type": "code",
   "execution_count": 16,
   "metadata": {},
   "outputs": [
    {
     "name": "stdout",
     "output_type": "stream",
     "text": [
      "2.526337092894249e-16\n"
     ]
    }
   ],
   "source": [
    "residual = np.linalg.norm(b - A.dot(x)) / (np.linalg.norm(A) * np.linalg.norm(b))\n",
    "print(residual)"
   ]
  },
  {
   "cell_type": "markdown",
   "metadata": {},
   "source": [
    "The system was solved with an accuracy close to machine precision."
   ]
  }
 ],
 "metadata": {
  "kernelspec": {
   "display_name": "Python 3",
   "language": "python",
   "name": "python3"
  },
  "language_info": {
   "codemirror_mode": {
    "name": "ipython",
    "version": 3
   },
   "file_extension": ".py",
   "mimetype": "text/x-python",
   "name": "python",
   "nbconvert_exporter": "python",
   "pygments_lexer": "ipython3",
   "version": "3.8.5"
  }
 },
 "nbformat": 4,
 "nbformat_minor": 2
}
