{
 "cells": [
  {
   "cell_type": "markdown",
   "metadata": {},
   "source": [
    "# Iterative Solvers 4 - Preconditioning"
   ]
  },
  {
   "cell_type": "markdown",
   "metadata": {},
   "source": [
    "## The basic idea"
   ]
  },
  {
   "cell_type": "markdown",
   "metadata": {},
   "source": [
    "For both the GMRES method and CG we have seen that the eigenvalue distribution is crucial for fast convergence. In both cases we would like the eigenvalues of the matrix be clustered close together and be well separated from zero. Unfortunately, in many applications the matrices that arise naturally are badly behaved in this respect. Preconditioning is a strategy to try to modify a linear system so that it becomes more ameniable to iterative solvers. Preconditioning is one of the most active research areas and crucial for the solution of linear systems of equations with millions or even billions of unknowns.\n",
    "\n",
    "Consider the linear system of equations\n",
    "\n",
    "$$\n",
    "Ax = b\n",
    "$$\n",
    "\n",
    "In its basic form the idea of preconditioning is to multiply the system with a matrix $P^{-1}$ that is some kind of approximation to $A^{-1}$, that is $P^{-1}\\approx A^{-1}$ in some sense (making this precise is the difficult bit).\n",
    "\n",
    "We obtain either the left-preconditioned system\n",
    "\n",
    "$$\n",
    "P^{-1}Ax = P^{-1}b\n",
    "$$\n",
    "\n",
    "or the right-preconditioned system\n",
    "\n",
    "$$\n",
    "AP^{-1}y = b,\n",
    "$$\n",
    "\n",
    "where in the latter case we then additionally need to solve $Px=y$.\n",
    "\n",
    "Classes of preconditioners include\n",
    "\n",
    "* SPAI (Sparse Approximate Inverses)\n",
    "* Incomplete LU Decomposition\n",
    "* Incomplete Cholesky Decomposition\n",
    "* Splitting Preconditioners\n",
    "* Algebraic Multigrid Methods\n",
    "\n",
    "These are also known as **algebraic preconditioners**. They consider the matrix $A$ and try to find an approximation to $A$ that is easily invertible.\n",
    "\n",
    "A different class of preconditioners are **analytic preconditioners**. These are preconditioners that are often constructed as problems to PDEs that are easier to solve than the original PDE but still approximate to some sense the underlying physics of the problem."
   ]
  },
  {
   "cell_type": "markdown",
   "metadata": {},
   "source": [
    "## Sparse Approximate Inverse"
   ]
  },
  {
   "cell_type": "markdown",
   "metadata": {},
   "source": [
    "As example of the class of algebraic preconditioners we consider here the Sparse Approximate Inverse (SPAI). Incomplete LU decompositions will be discussed later on. We note that SPAI is a technique that works well in certain cases, but is not suitable in others. **There is no general preconditioning technique that always works well.**\n",
    "\n",
    "We denote by $\\|A\\|_F$ the Frobenious norm of a matrix $A$ defined by\n",
    "\n",
    "$$\n",
    "\\|A\\|_F^2 := \\sum_{i, j}|a_{ij}|^2.\n",
    "$$\n",
    "\n",
    "The idea of SPAI is now to try to find a matrix $M := P^{-1}$ such that\n",
    "\n",
    "$$\n",
    "F(M) := \\|I - AM\\|_F\n",
    "$$\n",
    "\n",
    "is small. The minimum of this function is obviously reached for $M = A^{-1}$. But this usually not practical. Instead, we try to find a successive sequence of matrices $M_k$ that are approaching the minimum of the function $F$.\n",
    "\n",
    "There are many ways to define an approximate minimization procedure to minimize $F$. The following is a global minimum residual algorithm, described by Saad in [Iterative Methods for Sparse Linear Systems](https://www-users.cs.umn.edu/~saad/IterMethBook_2ndEd.pdf).\n",
    "\n",
    "$$\n",
    "\\begin{align}\n",
    "C_k &= A M_k\\nonumber\\\\\n",
    "G_k &= I - C_k\\nonumber\\\\\n",
    "\\alpha_k &=\\text{tr}(G_k^TAG_k) / \\|AG_k\\|_F^2\\nonumber\\\\\n",
    "M_{k+1} &= M_k + \\alpha_k G_k\\nonumber\\\\\n",
    "\\end{align}\n",
    "$$\n",
    "\n",
    "In each step of the algorithm the matrix $M_k$ becomes slightly denser. Hence, in practice this is often combined with a numerical drop strategy for entries of $M$."
   ]
  },
  {
   "cell_type": "markdown",
   "metadata": {},
   "source": [
    "The following code implements this method. As starting matrix $M_0$ we choose $M_0 = \\frac{2}{\\|AA^T\\|_1}A$, which was recommended by Chow and Saad in [Approximate Inverse Preconditioners via Sparse-Sparse Iterations](https://dl.acm.org/doi/10.1137/S1064827594270415). Note that in the following code we did not implement dropping of values. For practical purposes this is essential and strategies are discussed in the paper by Chow and Saad.\n"
   ]
  },
  {
   "cell_type": "code",
   "execution_count": 155,
   "metadata": {},
   "outputs": [],
   "source": [
    "def spai(A, m):\n",
    "    \"\"\"Perform m step of the SPAI iteration.\"\"\"\n",
    "    from scipy.sparse import identity\n",
    "    from scipy.sparse import diags\n",
    "    from scipy.sparse.linalg import onenormest\n",
    "    \n",
    "    n = A.shape[0]\n",
    "    \n",
    "    ident = identity(n, format='csr')\n",
    "    alpha = 2 / onenormest(A @ A.T)\n",
    "    M = alpha * A\n",
    "        \n",
    "    for index in range(m):\n",
    "        C = A @ M\n",
    "        G = ident - C\n",
    "        AG = A @ G\n",
    "        trace = (G.T @ AG).diagonal().sum()\n",
    "        alpha = trace / np.linalg.norm(AG.data)**2\n",
    "        M = M + alpha * G\n",
    "        \n",
    "    return M"
   ]
  },
  {
   "cell_type": "markdown",
   "metadata": {},
   "source": [
    "We run the code with the following matrix, which is a slightly shifted version of the discrete 3-point second order differential operator."
   ]
  },
  {
   "cell_type": "code",
   "execution_count": 173,
   "metadata": {},
   "outputs": [],
   "source": [
    "from scipy.sparse import diags\n",
    "\n",
    "n = 1000\n",
    "\n",
    "data = [2.001 * np.ones(n),\n",
    "        -1. * np.ones(n - 1),\n",
    "        -1. * np.ones(n - 1)]\n",
    "\n",
    "offsets = [0, 1, -1]\n",
    "\n",
    "A = diags(data, offsets=offsets, shape=(n, n), format='csr')"
   ]
  },
  {
   "cell_type": "markdown",
   "metadata": {},
   "source": [
    "The condition number without the preconditioner is"
   ]
  },
  {
   "cell_type": "code",
   "execution_count": 174,
   "metadata": {},
   "outputs": [
    {
     "data": {
      "text/plain": [
       "3961.9652414689454"
      ]
     },
     "execution_count": 174,
     "metadata": {},
     "output_type": "execute_result"
    }
   ],
   "source": [
    "np.linalg.cond(A.todense())"
   ]
  },
  {
   "cell_type": "markdown",
   "metadata": {},
   "source": [
    "Let us now generate the preconditioner."
   ]
  },
  {
   "cell_type": "code",
   "execution_count": 179,
   "metadata": {},
   "outputs": [],
   "source": [
    "M = spai(A, 50)"
   ]
  },
  {
   "cell_type": "markdown",
   "metadata": {},
   "source": [
    "Let us check the condition number of the right-preconditioned system."
   ]
  },
  {
   "cell_type": "code",
   "execution_count": 181,
   "metadata": {},
   "outputs": [
    {
     "data": {
      "text/plain": [
       "40.18659718436073"
      ]
     },
     "execution_count": 181,
     "metadata": {},
     "output_type": "execute_result"
    }
   ],
   "source": [
    "np.linalg.cond(A.todense() @ M.todense())"
   ]
  },
  {
   "cell_type": "markdown",
   "metadata": {},
   "source": [
    "It has been reduced by a factor 100. This is a good sign. We are now running CG for the preconditioned and non-preconditioned system."
   ]
  },
  {
   "cell_type": "code",
   "execution_count": 192,
   "metadata": {},
   "outputs": [
    {
     "data": {
      "text/plain": [
       "<matplotlib.legend.Legend at 0x7efbc0488b50>"
      ]
     },
     "execution_count": 192,
     "metadata": {},
     "output_type": "execute_result"
    },
    {
     "data": {
      "image/png": "[encoded data removed]",
      "text/plain": [
       "<Figure size 576x576 with 1 Axes>"
      ]
     },
     "metadata": {
      "needs_background": "light"
     },
     "output_type": "display_data"
    }
   ],
   "source": [
    "%matplotlib inline\n",
    "from matplotlib import pyplot as plt\n",
    "from scipy.sparse.linalg import cg\n",
    "\n",
    "n = A.shape[0]\n",
    "b = np.ones(n)\n",
    "\n",
    "residuals = []\n",
    "callback = lambda x: residuals.append(np.linalg.norm(A @ x - b))\n",
    "x, _ = cg(A, b, callback=callback)\n",
    "\n",
    "residuals_preconditioned = []\n",
    "callback = lambda x: residuals_preconditioned.append(np.linalg.norm(A @ x - b) / np.linalg.norm(b))\n",
    "x, _ = cg(A, b, M=M, callback=callback)\n",
    "\n",
    "fig = plt.figure(figsize=(8, 8))\n",
    "ax = fig.add_subplot(111)\n",
    "ax.semilogy(residuals, 'k--')\n",
    "ax.semilogy(residuals_preconditioned, 'b--')\n",
    "ax.set_ylabel('relative residual')\n",
    "fig.legend(['no preconditioning', 'SPAI'], loc='lower center', fancybox=True, shadow=True)"
   ]
  },
  {
   "cell_type": "markdown",
   "metadata": {},
   "source": [
    "We can see a significant improvement in the number of iterations. However, the comparison is not quite fair. Setting up the preconditioner took time, which should be taken into account. Just considering number of iterations is not sufficient. In practice, the overall computation time is the much more important measure. We have implemented here a very primitive variant of SPAI that should not be used in practice. For practical alternatives see the cited literature. For the type of matrix that $A$ is there are also much better precondtioners available, some of which we will encounter later."
   ]
  },
  {
   "cell_type": "markdown",
   "metadata": {},
   "source": [
    "## A note on preconditioned Conjugate Gradient"
   ]
  },
  {
   "cell_type": "markdown",
   "metadata": {},
   "source": [
    "We have passed here the preconditioner as a matrix into the CG algorithm. This is possible if the preconditioner is also symmetric, positive definite. This is the case in our example. We are not going to discuss the details of preconditioned conjugate gradients in more details here and refer to the book by Saad."
   ]
  }
 ],
 "metadata": {
  "kernelspec": {
   "display_name": "Python [conda env:dev] *",
   "language": "python",
   "name": "conda-env-dev-py"
  },
  "language_info": {
   "codemirror_mode": {
    "name": "ipython",
    "version": 3
   },
   "file_extension": ".py",
   "mimetype": "text/x-python",
   "name": "python",
   "nbconvert_exporter": "python",
   "pygments_lexer": "ipython3",
   "version": "3.8.5"
  }
 },
 "nbformat": 4,
 "nbformat_minor": 4
}
