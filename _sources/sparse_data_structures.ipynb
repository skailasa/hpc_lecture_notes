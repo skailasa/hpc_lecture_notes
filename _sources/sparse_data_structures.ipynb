{
 "cells": [
  {
   "cell_type": "markdown",
   "metadata": {},
   "source": [
    "# Sparse Matrix data structures"
   ]
  },
  {
   "cell_type": "markdown",
   "metadata": {},
   "source": [
    "We consider the following simple matrix."
   ]
  },
  {
   "cell_type": "code",
   "execution_count": 3,
   "metadata": {},
   "outputs": [
    {
     "name": "stdout",
     "output_type": "stream",
     "text": [
      "[[ 1  0  0  2  0]\n",
      " [ 3  4  0  5  0]\n",
      " [ 6  0  7  8  9]\n",
      " [ 0  0 10 11  0]\n",
      " [ 0  0  0  0 12]]\n"
     ]
    }
   ],
   "source": [
    "import numpy as np\n",
    "\n",
    "A = np.array([\n",
    "    [1, 0, 0, 2, 0],\n",
    "    [3, 4, 0, 5, 0],\n",
    "    [6, 0, 7, 8, 9],\n",
    "    [0, 0, 10, 11, 0],\n",
    "    [0, 0, 0, 0, 12]\n",
    "])\n",
    "print(A)"
   ]
  },
  {
   "cell_type": "markdown",
   "metadata": {},
   "source": [
    "In the following we want to give a simple overview of sparse data formats to store this matrix. In this example, although we have a number of zero entries, sparse matrix formats are not worthwile, and we use this example mainly for didactical purposes."
   ]
  },
  {
   "cell_type": "markdown",
   "metadata": {},
   "source": [
    "## The COO (Coordinate) format"
   ]
  },
  {
   "cell_type": "markdown",
   "metadata": {},
   "source": [
    "We start with the COO format. It is the most simple format. Let us conver the matrix into it."
   ]
  },
  {
   "cell_type": "code",
   "execution_count": 5,
   "metadata": {},
   "outputs": [],
   "source": [
    "from scipy.sparse import coo_matrix\n",
    "\n",
    "A_coo = coo_matrix(A)"
   ]
  },
  {
   "cell_type": "markdown",
   "metadata": {},
   "source": [
    "The coo format is a very simple format that explicitly stores the row entries. It consists of three arrays, the row indices, the column indicies and the data entries. Let us print those arrays."
   ]
  },
  {
   "cell_type": "code",
   "execution_count": 6,
   "metadata": {},
   "outputs": [
    {
     "name": "stdout",
     "output_type": "stream",
     "text": [
      "[0 0 1 1 1 2 2 2 2 3 3 4]\n",
      "[0 3 0 1 3 0 2 3 4 2 3 4]\n",
      "[ 1  2  3  4  5  6  7  8  9 10 11 12]\n"
     ]
    }
   ],
   "source": [
    "print(A_coo.row)\n",
    "print(A_coo.col)\n",
    "print(A_coo.data)"
   ]
  },
  {
   "cell_type": "markdown",
   "metadata": {},
   "source": [
    "We can easily print out the triplets of row index, column index and associated data entry."
   ]
  },
  {
   "cell_type": "code",
   "execution_count": 9,
   "metadata": {},
   "outputs": [
    {
     "data": {
      "text/plain": [
       "[(0, 0, 1),\n",
       " (0, 3, 2),\n",
       " (1, 0, 3),\n",
       " (1, 1, 4),\n",
       " (1, 3, 5),\n",
       " (2, 0, 6),\n",
       " (2, 2, 7),\n",
       " (2, 3, 8),\n",
       " (2, 4, 9),\n",
       " (3, 2, 10),\n",
       " (3, 3, 11),\n",
       " (4, 4, 12)]"
      ]
     },
     "execution_count": 9,
     "metadata": {},
     "output_type": "execute_result"
    }
   ],
   "source": [
    "list(zip(A_coo.row, A_coo.col, A_coo.data))"
   ]
  },
  {
   "cell_type": "markdown",
   "metadata": {},
   "source": [
    "The coo format in Scipy is most frequently used for the generation of sparse matrices. The format is very simple and we can use it to easily create sparse matrices. We only need to provide the row, column and data arrays to create the coo matrix. A major advantage is also that we can repeat indices. In the matrix creation all data entries associated with the same matrix entry is just summed up. This is a very natural operation and simplifies a number of a situations, where we need to create sparse matrices.\n",
    "\n",
    "However, coo is not a suitable format for typical matrix operations. Also, it is not yet optimal in terms of storage requirements."
   ]
  },
  {
   "cell_type": "markdown",
   "metadata": {},
   "source": [
    "## The CSR (Compressed Sparse Row) Format"
   ]
  },
  {
   "cell_type": "markdown",
   "metadata": {},
   "source": [
    "If we look at the printout of the indices above in the coo format we can see that there is a lot of repetition in the row indices. We store for each nonzero entry the row index even though all row indices within the same row are identical. This motivates the idea of the CSR (Compressed Sparse Row) format. Instead of the row array we store an array of index pointers that give the starting position of the row within the column array. Let us demonstrate how this works."
   ]
  },
  {
   "cell_type": "markdown",
   "metadata": {},
   "source": [
    "We first conver the COO matrix format into the CSR format."
   ]
  },
  {
   "cell_type": "code",
   "execution_count": 12,
   "metadata": {},
   "outputs": [],
   "source": [
    "A_csr = A_coo.tocsr()"
   ]
  },
  {
   "cell_type": "markdown",
   "metadata": {},
   "source": [
    "Let us now print out the arrays that define the CSR format. We have three arrays.\n",
    "\n",
    "* A_csr.data - The data array containing the nonzero entries\n",
    "* A_csr.indices - The column indices for the nonzero entries\n",
    "* A_csr.indptr - Pointers into the column indices to store which indices belong to which row.\n",
    "\n",
    "The first two are the same as in the COO format. The last one requires explanation. For this let us print out the three arrays."
   ]
  },
  {
   "cell_type": "code",
   "execution_count": 13,
   "metadata": {},
   "outputs": [
    {
     "name": "stdout",
     "output_type": "stream",
     "text": [
      "[ 1  2  3  4  5  6  7  8  9 10 11 12]\n",
      "[0 3 0 1 3 0 2 3 4 2 3 4]\n",
      "[ 0  2  5  9 11 12]\n"
     ]
    }
   ],
   "source": [
    "print(A_csr.data)\n",
    "print(A_csr.indices)\n",
    "print(A_csr.indptr)"
   ]
  },
  {
   "cell_type": "markdown",
   "metadata": {},
   "source": [
    "Comparing the arrays shows that the first two are indeed identical to the corresponding arrays for the COO format. The third array tells us where in the `indices` array the column indices for the ith row are located, namely we have that the column indices for the ith row are located in\n",
    "\n",
    "```\n",
    "indices[indptr[i] : indptr[i + 1]]\n",
    "```\n",
    "Correspondingly the assocated data entries are in\n",
    "\n",
    "```\n",
    "data[indptr[i] : indptr[i + 1]]\n",
    "```\n",
    "\n",
    "Let us consider the above example again. The 0th row has column entries starting at index 0. The first row has indices starting at index 2, and so on."
   ]
  },
  {
   "cell_type": "code",
   "execution_count": null,
   "metadata": {},
   "outputs": [],
   "source": []
  }
 ],
 "metadata": {
  "kernelspec": {
   "display_name": "Python [conda env:dev] *",
   "language": "python",
   "name": "conda-env-dev-py"
  },
  "language_info": {
   "codemirror_mode": {
    "name": "ipython",
    "version": 3
   },
   "file_extension": ".py",
   "mimetype": "text/x-python",
   "name": "python",
   "nbconvert_exporter": "python",
   "pygments_lexer": "ipython3",
   "version": "3.8.5"
  }
 },
 "nbformat": 4,
 "nbformat_minor": 4
}
